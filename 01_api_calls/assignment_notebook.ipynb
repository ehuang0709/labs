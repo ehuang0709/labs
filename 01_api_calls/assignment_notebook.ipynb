{
 "cells": [
  {
   "cell_type": "markdown",
   "metadata": {
    "id": "Yi7xzykjgGP9"
   },
   "source": [
    "## Lab 1: Getting data from API's\n",
    "\n",
    "A great source of data and Pandas practice is getting data from the Internet. It is not going to come in a .csv file, though: It will be a stream of records, typically in XML (eXtensible Mark-up Language) or JSON (JavaScript Object Notation) format.\n",
    "\n",
    "We'll look at a very simple API and some useful code chunks for getting and analyzing data, and then you'll take a look at the APIs available from the Federal government as the main work for your lab.\n"
   ]
  },
  {
   "cell_type": "markdown",
   "metadata": {
    "id": "Ko09F0g3gGP-"
   },
   "source": [
    "## API Queries\n",
    "\n",
    "The core programming skill of the activity is to learn to query an online Application Programmer Interface (API). It is a similar experience to browsing the Internet, and initial results can be displayed the web browser. When visiting a web page, the address bar typically contains something like\n",
    "$$\n",
    "\\texttt{https://} \\underbrace{\\texttt{www.}}_{\\text{World Wide Web subdomain}} \\texttt{domain}. \\underbrace{\\texttt{tld}}_{\\text{Top level domain}},\n",
    "$$\n",
    "where the https:// specifies the protocol, www. specifies the world-wide-web subdomain, the domain is the entity, and the top-level domain .tld is typically something like .com or .gov, but is increasingly varied as ICANN releases more TLD's into circulation.\n",
    "\n",
    "With an online API, the user instead enters a url that goes directly to an API subdomain\n",
    "$$\n",
    "\\texttt{https://} \\underbrace{\\texttt{api.}}_{\\text{Application programmer interface}} \\texttt{domain.tld}/ \\texttt{(the query)}\n",
    "$$\n",
    "or accesses REST services as\n",
    "$$\n",
    "\\texttt{https://www.domain.tld} \\underbrace{\\texttt{/REST}}_{\\text{Accesses REST services}}/ \\texttt{(the query)}\n",
    "$$\n",
    "This accesses data on the domain's servers and returns the result directly to the user.\n",
    "\n",
    "The query itself is typically a string beginning with a question mark ?, followed by a series of expressions joined by ampersands &. For example,\n",
    "\n",
    "`?ProductType=Phone\\&Manufacturer=Apple`\n",
    "\n",
    "passes a query requesting all records for which the product type is recorded as phone and the manufacturer is recorded as Apple. Some API's include date ranges and other, more complex requests.\n",
    "\n",
    "To get started, a simple warm-up is to use the API from saferproducts.gov, which has a simple and intuitive structure for queries, and the results are simple enough to look at in the browser. Typing this in the address bar in a browser should yield about thirty records:\n",
    "\n",
    "    https://www.saferproducts.gov/RestWebServices/Recall?format=json&ProductType=Phone  \n",
    "\n",
    "with the first being, on this occasion:\n",
    "\n",
    "    \"RecallID\": 7856,\n",
    "    \"RecallNumber\": \"16266\",\n",
    "    \"RecallDate\": \"2016-09-15T00:00:00\",\n",
    "    \"Description\": \"This recall involves the Samsung Galaxy Note7 smartphone sold before\n",
    "    September 15, 2016. The recalled devices have a 5.7 inch screen and were sold in the\n",
    "    following colors: black onyx, blue coral, gold platinum and silver titanium with a\n",
    "    matching stylus. Samsung is printed on the top front of the phone and Galaxy Note7\n",
    "    is printed on the back of the phone. To determine if your phone has been recalled,\n",
    "    locate the IMEI number on the back of the phone or the packaging, and enter the IMEI\n",
    "    number into the online registration site www.samsung.com or call Samsung toll-free\n",
    "    at 844-365-6197.\",\n",
    "    \"URL\": \"https://www.cpsc.gov/Recalls/2016/Samsung-Recalls-Galaxy-Note7-Smartphones\",\n",
    "    \"Title\": \"Samsung Recalls Galaxy Note7 Smartphones Due to Serious Fire and Burn Hazards\",\n",
    "    \"ConsumerContact\": \"Contact your wireless carrier or place of purchase, call Samsung\n",
    "    toll-free at 844-365-6197 anytime, or go online at www.samsung.com.\",\n",
    "    \"LastPublishDate\": \"2016-10-27T00:00:00\"\n",
    "\n",
    "The query itself in this case is:\n",
    "\n",
    "    ?format=json&ProductType=Phone  \n",
    "\n",
    "The quert requests all of the recalls in JavaScript Object Notation (json) format, where the `ProductType` variable is equal to `Phone`. In addition to `ProductType`, other options include:\n",
    "\n",
    "    RecallID,\n",
    "    RecallNumber,\n",
    "    RecallDateStart,\n",
    "    RecallDateEnd,\n",
    "    RecallURL,\n",
    "    LastPublishDateStart,\n",
    "    LastPublishDateEnd,\n",
    "    RecallTitle,\n",
    "    ConsumerContact,\n",
    "    RecallDescription,\n",
    "    ProductName,\n",
    "    ProductDescription,\n",
    "    ProductModel,\n",
    "    ProductType,\n",
    "    InconjunctionURL,\n",
    "    ImageURL,\n",
    "    Injury,\n",
    "    Manufacturer,\n",
    "    Retailer,\n",
    "    Importer,\n",
    "    Distributor,\n",
    "    ManufacturerCountry,\n",
    "    UPC,\n",
    "    Hazard,\n",
    "    Remedy,\n",
    "    RemedyOption\n",
    "\n",
    "**1. Practice writing queries using the saferproducts.gov API and your web browser.**"
   ]
  },
  {
   "cell_type": "code",
   "execution_count": 2,
   "metadata": {
    "tags": []
   },
   "outputs": [
    {
     "ename": "SyntaxError",
     "evalue": "leading zeros in decimal integer literals are not permitted; use an 0o prefix for octal integers (307273260.py, line 3)",
     "output_type": "error",
     "traceback": [
      "\u001b[0;36m  Cell \u001b[0;32mIn[2], line 3\u001b[0;36m\u001b[0m\n\u001b[0;31m    https://www.saferproducts.gov/RestWebServices/Recall?format=json&ProductType=Tablet&RecallDateStart=2016-01-01&RecallDateEnd=2017-01-01\u001b[0m\n\u001b[0m                                                                                                             ^\u001b[0m\n\u001b[0;31mSyntaxError\u001b[0m\u001b[0;31m:\u001b[0m leading zeros in decimal integer literals are not permitted; use an 0o prefix for octal integers\n"
     ]
    }
   ],
   "source": [
    "https://www.saferproducts.gov/RestWebServices/Recall?format=json&RecallID=7856\n",
    "https://www.saferproducts.gov/RestWebServices/Recall?format=json&Manufacturer=Samsung\n",
    "https://www.saferproducts.gov/RestWebServices/Recall?format=json&ProductType=Tablet&RecallDateStart=2016-01-01&RecallDateEnd=2017-01-01"
   ]
  },
  {
   "cell_type": "markdown",
   "metadata": {
    "id": "8Zwfi6ndgGP-"
   },
   "source": [
    "## Accessing API's with Python\n",
    "\n",
    "Anytime you use a computer to access resources on the Internet, you will likely run into problems. There are many options, but two with low coding overhead: The `requests` and `urrlib.requests` packages.\n",
    "\n",
    "The following code chunk uses the `requests` package to get the same kind of data that was being displayed in the browser, but in an interactive Python session:\n",
    "\n",
    "    import requests\n",
    "    url = 'https://www.saferproducts.gov/RestWebServices/' # Location of the API\n",
    "    query = 'Recall?format=json&ProductType=Exercise' # The query\n",
    "    header = {'User-Agent': 'Mozilla/5.0 (Windows NT 10.0; Win64; x64; rv:124.0)\n",
    "        Gecko/20100101 Firefox/124.0'} # The user-agent to avoid being blocked\n",
    "    raw = requests.get(url+query,headers=header) # Query the database\n",
    "    data = raw.json() # Convert data from json to dictionary\n",
    "\n",
    "To make the code easier to read, it separates the url and the query into two different strings, then concatenates them in the GET request. This makes it easier to edit the query, as well as suggests a simple way to loop over a number of queries that might be sent to the same API.\n",
    "\n",
    "Many resources are designed to block access from particular kinds of users. In order to circumvent these obstacles, you can specify a `header` dictionary that presents the query to the server as coming from a hypothetical and common user. In this case, the header presents the query as coming from a Firefox browser from a Windows computer, rather than something like `python-requests/3.12.1`. This problem appears generally in scraping data from the web, and can grind the process to a halt. For whatever reason, I have been blocked and gotten 403 errors with the `requests` package, which motivated me to prepare a second alternative that seems more robust:\n",
    "\n",
    "    import urllib.request\n",
    "    import json\n",
    "    url = 'https://www.saferproducts.gov/RestWebServices/' # Location of the API\n",
    "    query = 'Recall?format=json&ProductType=Exercise' # The query\n",
    "    response = urllib.request.urlopen(url+query)\n",
    "    response_bytes = response.read()\n",
    "    data = json.loads(response_bytes) # Convert response to json\n",
    "    response.close()\n",
    "\n",
    "This is a bit more code and some steps are a bit less human-friendly, but seems to work a bit more reliably than `requests`.\n",
    "\n",
    "**2. Practice with the saferproducts.gov API and the above code in a notebook to see how API's work, in general.**"
   ]
  },
  {
   "cell_type": "code",
   "execution_count": 5,
   "metadata": {
    "tags": []
   },
   "outputs": [],
   "source": [
    "import urllib.request\n",
    "import json\n",
    "url = 'https://www.saferproducts.gov/RestWebServices/' # Location of the API\n",
    "query = 'Recall?format=json&ProductType=Exercise' # The query\n",
    "header = {\n",
    "    'User-Agent': 'Mozilla/5.0 (Windows NT 10.0; Win64; x64; rv:124.0) Gecko/20100101 Firefox/124.0'\n",
    "}\n",
    "response = urllib.request.urlopen(url+query)\n",
    "response_bytes = response.read()\n",
    "data = json.loads(response_bytes) # Convert response to json\n",
    "response.close()"
   ]
  },
  {
   "cell_type": "markdown",
   "metadata": {
    "id": "CWk9ceyRgGP_"
   },
   "source": [
    "## Wrangling the Data\n",
    "\n",
    "Piping the data to Pandas is easy, because the preceding code chunk put the JSON data into a native Python dictionary, and the following converts it to a dataframe:\n",
    "\n",
    "    df = pd.DataFrame.from_dict(data)\n",
    "\n",
    "If the data is in raw XML or JSON format --- which might especially be true with other API's --- it would instead be \\texttt{pd.read\\_xml(data)} or \\texttt{pd.read\\_json(data)}. Ironing out these details in advance for other applications is a key part of the presentation for students, but having students resolve these issues as a component of group work or an assignment is a great way to help them mature as coding problem solvers by struggling with documentation and a well-defined problem.\n",
    "\n",
    "Unfortunately, there aren't many non-text fields in the \\texttt{www.saferproducts.gov} data. However, there are a few fields of interest that can be tabulated and discussed, such as RemedyOptions and ManufacturerCountries:\n",
    "\n",
    "    df['RemedyOptions'].value_counts()\n",
    "\n",
    "with output\n",
    "\n",
    "    RemedyOptions\n",
    "    []                                                                               139\n",
    "    [{'Option': 'Repair'}]                                                            49\n",
    "    [{'Option': 'Replace'}]                                                           12\n",
    "    [{'Option': 'Refund'}]                                                             7\n",
    "    [{'Option': 'Replace'}, {'Option': 'Repair'}]                                      4\n",
    "    [{'Option': 'Refund'}, {'Option': 'Replace'}, {'Option': 'Repair'}]                1\n",
    "    [{'Option': 'Replace'}, {'Option': 'Refund'}]                                      1\n",
    "    [{'Option': 'Refund'}, {'Option': 'Repair'}]                                       1\n",
    "    [{'Option': 'Label'}]                                                              1\n",
    "    [{'Option': 'New Instructions'}, {'Option': 'Replace'}, {'Option': 'Refund'}]      1\n",
    "    Name: count, dtype: int64\n",
    "\n",
    "It's appropriate at this point to do some data cleaning, particularly by flattening dictionary entries. With response data that get converted from json to a dictionary, there are often values in the data frame that need to be flattened or unpacked. For example, some values are recorded as \\texttt{ [$\\{$'Country':'Canada'$\\}$]}, or, worse, a dictionary with multiple entries: \\texttt{[ $\\{$ 'Option': 'Replace'$\\}$, $\\{$'Option': 'Repair'$\\}$]  ] }. This can lead to problems when another package refuses to work with a lists of lists or doesn't know how to simplify a dictionary to data, and presents some conceptual questions when cleaning.\n",
    "\n",
    "A simple script to recursively collapse the dictionary entries into a single string is:\n",
    "\n",
    "    temp = df['RemedyOptions']\n",
    "    clean_values = []\n",
    "    for i in range(len(temp)):\n",
    "        if len(temp[i])>0:\n",
    "            values = []\n",
    "            for j in range(len(temp[i])):\n",
    "                values.append(temp[i][j]['Option'] )\n",
    "            clean_values.append(values)\n",
    "        else:\n",
    "            clean_values.append('')\n",
    "    df['remedy'] = clean_values\n",
    "\n",
    "**3. Convert this code chunk into a function you can reuse to flatten dictionaries, or explain clearly the problems you run into while attempting to do so. Make some tables or plots.**\n"
   ]
  },
  {
   "cell_type": "code",
   "execution_count": 8,
   "metadata": {
    "tags": []
   },
   "outputs": [
    {
     "name": "stdout",
     "output_type": "stream",
     "text": [
      "             RemedyOptions     remedy\n",
      "0  [{'Option': 'Replace'}]  [Replace]\n",
      "1  [{'Option': 'Replace'}]  [Replace]\n",
      "2   [{'Option': 'Repair'}]   [Repair]\n",
      "3   [{'Option': 'Refund'}]   [Refund]\n",
      "4   [{'Option': 'Repair'}]   [Repair]\n"
     ]
    }
   ],
   "source": [
    "import pandas as pd\n",
    "\n",
    "def flatten_column(df):\n",
    "    temp = df['RemedyOptions']\n",
    "    clean_values = []\n",
    "    for i in range(len(temp)):\n",
    "        if len(temp[i]) > 0:\n",
    "            values = []\n",
    "            for j in range(len(temp[i])):\n",
    "                values.append(temp[i][j]['Option'])\n",
    "            clean_values.append(values)\n",
    "        else:\n",
    "            clean_values.append('')\n",
    "    \n",
    "    df['remedy'] = clean_values\n",
    "    return df\n",
    "\n",
    "df = pd.DataFrame.from_dict(data)\n",
    "df = flatten_column(df)\n",
    "print(df[['RemedyOptions', 'remedy']].head())"
   ]
  },
  {
   "cell_type": "markdown",
   "metadata": {
    "id": "glTQ8P7ggGP_"
   },
   "source": [
    "## Dashboarding the Results (Optional)\n",
    "\n",
    "To complete the pipeline from data to product, we can use \\texttt{streamlit} to quickly convert Python code into a web page that can be accessed locally. This can be done with essentially three lines of code: An import statement, a $.title()$ method call to set the page title, and an $.write()$ call to push the results to the page. Although relatively static, completing this step serves a pedogogical and psychological purpose: It pivots the students to thinking about how to communicate results to an audience, and how the project could become an ongoing endeavor rather than a single analytical exercise.\n",
    "\n",
    "The entire .py file to create the dashboard is\n",
    "\n",
    "    import pandas as pd\n",
    "    import requests\n",
    "    import streamlit as st\n",
    "    # Conduct analysis:\n",
    "    url = 'https://www.saferproducts.gov/RestWebServices/Recall'\n",
    "    query = '?format=json&RecallTitle=Gas'\n",
    "    header = {'User-Agent':\n",
    "              'Mozilla/5.0 (Windows NT 10.0; Win64; x64; rv:124.0) Gecko/20100101 Firefox/124.0'}\n",
    "    raw = requests.get(url+query,headers=header)\n",
    "    data = raw.json()\n",
    "    df = pd.DataFrame.from_dict(data)\n",
    "    temp = df['RemedyOptions']\n",
    "    clean_values = []\n",
    "    for i in range(len(temp)):\n",
    "        if len(temp[i])>0:\n",
    "            values = []\n",
    "            for j in range(len(temp[i])):\n",
    "                values.append(temp[i][j]['Option'] )\n",
    "            clean_values.append(values)\n",
    "        else:\n",
    "            clean_values.append('')\n",
    "    df['remedy'] = clean_values\n",
    "    remedy_counts = df['remedy'].value_counts()\n",
    "    # Create streamlit output:\n",
    "    st.title('Remedy Statistics')\n",
    "    st.write(remedy_counts)\n",
    "\n",
    "To create the web page, run the following at the command line:\n",
    "\n",
    "    streamlit run remedy.py\n",
    "\n",
    "This should convert the above analysis into a web page available from localhost.\n",
    "\n",
    "**4. Produce your own table or plot, and output it to streamlit.**"
   ]
  },
  {
   "cell_type": "code",
   "execution_count": 59,
   "metadata": {
    "tags": []
   },
   "outputs": [
    {
     "ename": "JSONDecodeError",
     "evalue": "Expecting value: line 1 column 1 (char 0)",
     "output_type": "error",
     "traceback": [
      "\u001b[0;31m---------------------------------------------------------------------------\u001b[0m",
      "\u001b[0;31mJSONDecodeError\u001b[0m                           Traceback (most recent call last)",
      "File \u001b[0;32m/apps/software/standard/core/jupyterlab/3.6.3-py3.11/lib/python3.11/site-packages/requests/models.py:971\u001b[0m, in \u001b[0;36mResponse.json\u001b[0;34m(self, **kwargs)\u001b[0m\n\u001b[1;32m    970\u001b[0m \u001b[38;5;28;01mtry\u001b[39;00m:\n\u001b[0;32m--> 971\u001b[0m     \u001b[38;5;28;01mreturn\u001b[39;00m \u001b[43mcomplexjson\u001b[49m\u001b[38;5;241;43m.\u001b[39;49m\u001b[43mloads\u001b[49m\u001b[43m(\u001b[49m\u001b[38;5;28;43mself\u001b[39;49m\u001b[38;5;241;43m.\u001b[39;49m\u001b[43mtext\u001b[49m\u001b[43m,\u001b[49m\u001b[43m \u001b[49m\u001b[38;5;241;43m*\u001b[39;49m\u001b[38;5;241;43m*\u001b[39;49m\u001b[43mkwargs\u001b[49m\u001b[43m)\u001b[49m\n\u001b[1;32m    972\u001b[0m \u001b[38;5;28;01mexcept\u001b[39;00m JSONDecodeError \u001b[38;5;28;01mas\u001b[39;00m e:\n\u001b[1;32m    973\u001b[0m     \u001b[38;5;66;03m# Catch JSON-related errors and raise as requests.JSONDecodeError\u001b[39;00m\n\u001b[1;32m    974\u001b[0m     \u001b[38;5;66;03m# This aliases json.JSONDecodeError and simplejson.JSONDecodeError\u001b[39;00m\n",
      "File \u001b[0;32m/apps/software/standard/core/jupyterlab/3.6.3-py3.11/lib/python3.11/json/__init__.py:346\u001b[0m, in \u001b[0;36mloads\u001b[0;34m(s, cls, object_hook, parse_float, parse_int, parse_constant, object_pairs_hook, **kw)\u001b[0m\n\u001b[1;32m    343\u001b[0m \u001b[38;5;28;01mif\u001b[39;00m (\u001b[38;5;28mcls\u001b[39m \u001b[38;5;129;01mis\u001b[39;00m \u001b[38;5;28;01mNone\u001b[39;00m \u001b[38;5;129;01mand\u001b[39;00m object_hook \u001b[38;5;129;01mis\u001b[39;00m \u001b[38;5;28;01mNone\u001b[39;00m \u001b[38;5;129;01mand\u001b[39;00m\n\u001b[1;32m    344\u001b[0m         parse_int \u001b[38;5;129;01mis\u001b[39;00m \u001b[38;5;28;01mNone\u001b[39;00m \u001b[38;5;129;01mand\u001b[39;00m parse_float \u001b[38;5;129;01mis\u001b[39;00m \u001b[38;5;28;01mNone\u001b[39;00m \u001b[38;5;129;01mand\u001b[39;00m\n\u001b[1;32m    345\u001b[0m         parse_constant \u001b[38;5;129;01mis\u001b[39;00m \u001b[38;5;28;01mNone\u001b[39;00m \u001b[38;5;129;01mand\u001b[39;00m object_pairs_hook \u001b[38;5;129;01mis\u001b[39;00m \u001b[38;5;28;01mNone\u001b[39;00m \u001b[38;5;129;01mand\u001b[39;00m \u001b[38;5;129;01mnot\u001b[39;00m kw):\n\u001b[0;32m--> 346\u001b[0m     \u001b[38;5;28;01mreturn\u001b[39;00m \u001b[43m_default_decoder\u001b[49m\u001b[38;5;241;43m.\u001b[39;49m\u001b[43mdecode\u001b[49m\u001b[43m(\u001b[49m\u001b[43ms\u001b[49m\u001b[43m)\u001b[49m\n\u001b[1;32m    347\u001b[0m \u001b[38;5;28;01mif\u001b[39;00m \u001b[38;5;28mcls\u001b[39m \u001b[38;5;129;01mis\u001b[39;00m \u001b[38;5;28;01mNone\u001b[39;00m:\n",
      "File \u001b[0;32m/apps/software/standard/core/jupyterlab/3.6.3-py3.11/lib/python3.11/json/decoder.py:337\u001b[0m, in \u001b[0;36mJSONDecoder.decode\u001b[0;34m(self, s, _w)\u001b[0m\n\u001b[1;32m    333\u001b[0m \u001b[38;5;250m\u001b[39m\u001b[38;5;124;03m\"\"\"Return the Python representation of ``s`` (a ``str`` instance\u001b[39;00m\n\u001b[1;32m    334\u001b[0m \u001b[38;5;124;03mcontaining a JSON document).\u001b[39;00m\n\u001b[1;32m    335\u001b[0m \n\u001b[1;32m    336\u001b[0m \u001b[38;5;124;03m\"\"\"\u001b[39;00m\n\u001b[0;32m--> 337\u001b[0m obj, end \u001b[38;5;241m=\u001b[39m \u001b[38;5;28;43mself\u001b[39;49m\u001b[38;5;241;43m.\u001b[39;49m\u001b[43mraw_decode\u001b[49m\u001b[43m(\u001b[49m\u001b[43ms\u001b[49m\u001b[43m,\u001b[49m\u001b[43m \u001b[49m\u001b[43midx\u001b[49m\u001b[38;5;241;43m=\u001b[39;49m\u001b[43m_w\u001b[49m\u001b[43m(\u001b[49m\u001b[43ms\u001b[49m\u001b[43m,\u001b[49m\u001b[43m \u001b[49m\u001b[38;5;241;43m0\u001b[39;49m\u001b[43m)\u001b[49m\u001b[38;5;241;43m.\u001b[39;49m\u001b[43mend\u001b[49m\u001b[43m(\u001b[49m\u001b[43m)\u001b[49m\u001b[43m)\u001b[49m\n\u001b[1;32m    338\u001b[0m end \u001b[38;5;241m=\u001b[39m _w(s, end)\u001b[38;5;241m.\u001b[39mend()\n",
      "File \u001b[0;32m/apps/software/standard/core/jupyterlab/3.6.3-py3.11/lib/python3.11/json/decoder.py:355\u001b[0m, in \u001b[0;36mJSONDecoder.raw_decode\u001b[0;34m(self, s, idx)\u001b[0m\n\u001b[1;32m    354\u001b[0m \u001b[38;5;28;01mexcept\u001b[39;00m \u001b[38;5;167;01mStopIteration\u001b[39;00m \u001b[38;5;28;01mas\u001b[39;00m err:\n\u001b[0;32m--> 355\u001b[0m     \u001b[38;5;28;01mraise\u001b[39;00m JSONDecodeError(\u001b[38;5;124m\"\u001b[39m\u001b[38;5;124mExpecting value\u001b[39m\u001b[38;5;124m\"\u001b[39m, s, err\u001b[38;5;241m.\u001b[39mvalue) \u001b[38;5;28;01mfrom\u001b[39;00m \u001b[38;5;28;01mNone\u001b[39;00m\n\u001b[1;32m    356\u001b[0m \u001b[38;5;28;01mreturn\u001b[39;00m obj, end\n",
      "\u001b[0;31mJSONDecodeError\u001b[0m: Expecting value: line 1 column 1 (char 0)",
      "\nDuring handling of the above exception, another exception occurred:\n",
      "\u001b[0;31mJSONDecodeError\u001b[0m                           Traceback (most recent call last)",
      "Cell \u001b[0;32mIn[59], line 11\u001b[0m\n\u001b[1;32m      8\u001b[0m header \u001b[38;5;241m=\u001b[39m {\u001b[38;5;124m'\u001b[39m\u001b[38;5;124mUser-Agent\u001b[39m\u001b[38;5;124m'\u001b[39m:\n\u001b[1;32m      9\u001b[0m           \u001b[38;5;124m'\u001b[39m\u001b[38;5;124mMozilla/5.0 (Windows NT 10.0; Win64; x64; rv:124.0) Gecko/20100101 Firefox/124.0\u001b[39m\u001b[38;5;124m'\u001b[39m}\n\u001b[1;32m     10\u001b[0m raw \u001b[38;5;241m=\u001b[39m requests\u001b[38;5;241m.\u001b[39mget(url\u001b[38;5;241m+\u001b[39mquery, headers\u001b[38;5;241m=\u001b[39mheader)\n\u001b[0;32m---> 11\u001b[0m data \u001b[38;5;241m=\u001b[39m \u001b[43mraw\u001b[49m\u001b[38;5;241;43m.\u001b[39;49m\u001b[43mjson\u001b[49m\u001b[43m(\u001b[49m\u001b[43m)\u001b[49m\n\u001b[1;32m     12\u001b[0m data\n\u001b[1;32m     13\u001b[0m \u001b[38;5;66;03m# df = pd.DataFrame.from_dict(data)\u001b[39;00m\n\u001b[1;32m     14\u001b[0m \u001b[38;5;66;03m# temp = df['RemedyOptions']\u001b[39;00m\n\u001b[1;32m     15\u001b[0m \u001b[38;5;66;03m# clean_values = []\u001b[39;00m\n\u001b[0;32m   (...)\u001b[0m\n\u001b[1;32m     31\u001b[0m \u001b[38;5;66;03m# I'm running into an JSONDecodeError when I try to get raw.json() and I'm not sure if the problem I'm facing is because of the code or because\u001b[39;00m\n\u001b[1;32m     32\u001b[0m \u001b[38;5;66;03m# of any problem with the data itself\u001b[39;00m\n",
      "File \u001b[0;32m/apps/software/standard/core/jupyterlab/3.6.3-py3.11/lib/python3.11/site-packages/requests/models.py:975\u001b[0m, in \u001b[0;36mResponse.json\u001b[0;34m(self, **kwargs)\u001b[0m\n\u001b[1;32m    971\u001b[0m     \u001b[38;5;28;01mreturn\u001b[39;00m complexjson\u001b[38;5;241m.\u001b[39mloads(\u001b[38;5;28mself\u001b[39m\u001b[38;5;241m.\u001b[39mtext, \u001b[38;5;241m*\u001b[39m\u001b[38;5;241m*\u001b[39mkwargs)\n\u001b[1;32m    972\u001b[0m \u001b[38;5;28;01mexcept\u001b[39;00m JSONDecodeError \u001b[38;5;28;01mas\u001b[39;00m e:\n\u001b[1;32m    973\u001b[0m     \u001b[38;5;66;03m# Catch JSON-related errors and raise as requests.JSONDecodeError\u001b[39;00m\n\u001b[1;32m    974\u001b[0m     \u001b[38;5;66;03m# This aliases json.JSONDecodeError and simplejson.JSONDecodeError\u001b[39;00m\n\u001b[0;32m--> 975\u001b[0m     \u001b[38;5;28;01mraise\u001b[39;00m RequestsJSONDecodeError(e\u001b[38;5;241m.\u001b[39mmsg, e\u001b[38;5;241m.\u001b[39mdoc, e\u001b[38;5;241m.\u001b[39mpos)\n",
      "\u001b[0;31mJSONDecodeError\u001b[0m: Expecting value: line 1 column 1 (char 0)"
     ]
    }
   ],
   "source": [
    "import pandas as pd\n",
    "import requests\n",
    "import streamlit as st\n",
    "\n",
    "\n",
    "url = 'https://www.saferproducts.gov/RestWebServices/Recall'\n",
    "query = '?format=json&RecallTitle=Gas'\n",
    "header = {'User-Agent':\n",
    "          'Mozilla/5.0 (Windows NT 10.0; Win64; x64; rv:124.0) Gecko/20100101 Firefox/124.0'}\n",
    "raw = requests.get(url+query, headers=header)\n",
    "data = raw.json()\n",
    "df = pd.DataFrame.from_dict(data)\n",
    "temp = df['RemedyOptions']\n",
    "clean_values = []\n",
    "for i in range(len(temp)):\n",
    "    if len(temp[i]) > 0:\n",
    "        values = []\n",
    "        for j in range(len(temp[i])):\n",
    "            values.append(temp[i][j]['Option'])\n",
    "        clean_values.append(values)\n",
    "    else:\n",
    "        clean_values.append('')\n",
    "df['remedy'] = clean_values\n",
    "remedy_counts = df['remedy'].value_counts()\n",
    "\n",
    "st.title('Remedy Statistics')\n",
    "st.write(remedy_counts)\n",
    "\n",
    "\n",
    "# I'm running into an JSONDecodeError when I try to get raw.json() and I'm not sure if the problem I'm facing is because of the code or because\n",
    "# of any problem with the data itself"
   ]
  },
  {
   "cell_type": "code",
   "execution_count": 3,
   "metadata": {
    "tags": []
   },
   "outputs": [
    {
     "name": "stdout",
     "output_type": "stream",
     "text": [
      "/bin/bash: streamlit: command not found\n"
     ]
    }
   ],
   "source": []
  },
  {
   "cell_type": "markdown",
   "metadata": {
    "id": "1ogbrOZYgGP_"
   },
   "source": [
    "## Other API Sources\n",
    "\n",
    "Valuable and interesting Federal API resources are listed at:\n",
    "\n",
    "    https://catalog.data.gov/dataset/?_res_format_limit=0&res_format=API\n",
    "\n",
    "and in the future will likely easily be found at \\texttt{data.gov}. Some highlights include:\n",
    "\n",
    "- CDC WONDER API for Data Query Web Service: Includes death certificates with causes since approximately the 1990's.\n",
    "- Comprehensive Housing Affordability Strategy (CHAS): Housing and Urban Development (HUD) maintains an API that provides Census data on housing problems and needs unavailable through other sources, including IPUMS.\n",
    "- Federal Election Commission API: Provides historical and up to the minute campaign finance data.\n",
    "- Toxic Release Inventory: Provided by the Environmental Protection Agency, this API documents the release and management of over 800 toxic substances, reported annually by privately owned facilities and the government.\n",
    "- Petroleum Data, Prices: Provides prices of petroleum products and crude oil at weekly, monthly, and yearly time scales.\n",
    "- Fair Market Rents Lookup tool: Fair Market Rents (FMRs) determine the value of housing vouchers for Section 8 renters. This API provides the FMR values and other measures of housing affordability.\n",
    "- Annual Economic Surveys, Business Patterns: Surveys of businesses at the zip code level, tracking economic sentiment and activity.\n",
    "- Food Access Research Atlas: Provides spatial data on food access and the availability of supermarkets within census tracts. Can be merged with census data to look at under-served populations and food deserts.\n",
    "- National Oceanographic and Atmospheric Administration: Provides API access to data on real time weather and climate change projections.\n",
    "\n",
    "Each of these API resources could either be the cornerstone of a project or a source of additional data. These data sources have a number of advantages: They're free, most of them can be accessed using the same API key, and most have similar documentation for how to write a query. This is ideal for students to iterate, experiment, and take risks, with little cost to failure.\n",
    "\n",
    "In addition to government data, many commerical apps provide API access to developers and researchers. AirBnB, Amazon, Reddit, eBay, X, and many others maintain API access to develop third-party apps. These opportunities present many advantages: The data are larger, have more variety, and there are vastly many more cases. Building a third-party app that includes analytics could easily consume an entire semester and open a variety of applications in predictive analytics, natural language processing, and generative AI (e.g. predict which reviews are fake or real for Amazon for a product group like ``women's watches', and then make recommendations for different price points). While an exciting possibility, this can also raise a lot of problems: Some API's cost money or are rate-limited depending on a subscription, and others impose significant constraints on how the data can be used. In some cases, a more useful approach might be explicit web scraping using a package like BeautifulSoup or Selenium. For example, Craigslist has no API, but can easily and productively be scraped using BeautifulSoup.\n",
    "\n",
    "**5. Pick an API, download some data, wrangle them, and produce some EDA results, as we did in the previous steps with the saferproducts.gov API; or, if you can't get it to work, document why. If you have the time and it's low cost, push the results to a streamlit page. If you have had enough, I recommend https://www.eia.gov/opendata/browser/electricity, since there is a friendly query builder that you can use to learn.**"
   ]
  },
  {
   "cell_type": "code",
   "execution_count": 56,
   "metadata": {
    "tags": []
   },
   "outputs": [
    {
     "name": "stdout",
     "output_type": "stream",
     "text": [
      "count    4167.000000\n",
      "mean       12.370898\n",
      "std         6.895853\n",
      "min         0.000000\n",
      "25%         8.705000\n",
      "50%        11.500000\n",
      "75%        14.755000\n",
      "max        45.250000\n",
      "Name: price, dtype: float64\n"
     ]
    },
    {
     "data": {
      "image/png": "[encoded data removed]",
      "text/plain": [
       "<Figure size 800x600 with 1 Axes>"
      ]
     },
     "metadata": {},
     "output_type": "display_data"
    }
   ],
   "source": [
    "import pandas as pd\n",
    "import matplotlib.pyplot as plt\n",
    "import requests\n",
    "\n",
    "%matplotlib inline\n",
    "\n",
    "api_key = 'AgCzN4uy0S4YZGszRXCDqXi4eNlTNr5XEO8a8Me1'\n",
    "url = f'https://api.eia.gov/v2/electricity/retail-sales/data/?api_key={api_key}&frequency=monthly&data[0]=price&sort[0][column]=period&sort[0][direction]=desc&offset=0&length=5000'\n",
    "response = requests.get(url)\n",
    "data = response.json()\n",
    "\n",
    "df = pd.DataFrame(data['response']['data'])\n",
    "# df.head()\n",
    "\n",
    "# convert price to numeric data type\n",
    "df['price'] = pd.to_numeric(df['price'], errors='coerce')\n",
    "\n",
    "temp = df['price'] \n",
    "# print(temp.isnull().sum()) \n",
    "# 833 null data values\n",
    "\n",
    "# Drop rows with missing values\n",
    "df_clean = df.dropna(subset=['price'])\n",
    "# print(df_clean.isnull().sum())\n",
    "# no missing values now\n",
    "\n",
    "\n",
    "# EDA results and plotting it to a graph\n",
    "print(df_clean['price'].describe())\n",
    "\n",
    "plt.figure(figsize=(8, 6))\n",
    "plt.hist(df_clean['price'], bins=50, color='blue', alpha=0.7)\n",
    "plt.title('Distribution of Electricity Prices')\n",
    "plt.xlabel('Price (cents per kilowatthour)')\n",
    "plt.ylabel('Number of occurrences')\n",
    "plt.show()\n"
   ]
  }
 ],
 "metadata": {
  "colab": {
   "provenance": []
  },
  "kernelspec": {
   "display_name": "Python 3 (ipykernel)",
   "language": "python",
   "name": "python3"
  },
  "language_info": {
   "codemirror_mode": {
    "name": "ipython",
    "version": 3
   },
   "file_extension": ".py",
   "mimetype": "text/x-python",
   "name": "python",
   "nbconvert_exporter": "python",
   "pygments_lexer": "ipython3",
   "version": "3.11.4"
  }
 },
 "nbformat": 4,
 "nbformat_minor": 4
}
